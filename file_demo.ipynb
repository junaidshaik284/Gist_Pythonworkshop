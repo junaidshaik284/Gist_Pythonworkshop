{
 "cells": [
  {
   "cell_type": "code",
   "execution_count": 5,
   "metadata": {},
   "outputs": [
    {
     "name": "stdout",
     "output_type": "stream",
     "text": [
      "line1\n",
      "line2\n",
      "line3\n",
      "line4\n",
      "\n"
     ]
    }
   ],
   "source": [
    "\n",
    "file_data=open('demo.txt')\n",
    "data=file_data.read()\n",
    "print(data)\n",
    "file_data.close()"
   ]
  },
  {
   "cell_type": "code",
   "execution_count": 7,
   "metadata": {},
   "outputs": [
    {
     "name": "stdout",
     "output_type": "stream",
     "text": [
      "Enter your dataThis is python workshop\n",
      "Data stored successsfully....!!!!\n"
     ]
    }
   ],
   "source": [
    "file_path='insert_data.txt'\n",
    "with open(file_path,'w') as f:\n",
    "    data=input(\"Enter your data\")\n",
    "    f.write(data)\n",
    "    print(\"Data stored successsfully....!!!!\")"
   ]
  },
  {
   "cell_type": "code",
   "execution_count": 12,
   "metadata": {},
   "outputs": [
    {
     "name": "stdout",
     "output_type": "stream",
     "text": [
      "This is python workshop\n"
     ]
    }
   ],
   "source": [
    "with open(file_path,'r') as f:\n",
    "        data=f.read()\n",
    "        print(data)"
   ]
  },
  {
   "cell_type": "code",
   "execution_count": 16,
   "metadata": {},
   "outputs": [
    {
     "name": "stdout",
     "output_type": "stream",
     "text": [
      "Added.Successfully...!!!!\n"
     ]
    }
   ],
   "source": [
    "def add_contact(file_path,name,ph_no):\n",
    "    with open(file_path,'w') as f:\n",
    "        f.write(name+\":\"+ph_no)\n",
    "        print(\"Added.Successfully...!!!!\")\n",
    "add_contact(\"contact.txt\",\"vijay\",\"987654589\")        "
   ]
  },
  {
   "cell_type": "code",
   "execution_count": null,
   "metadata": {},
   "outputs": [],
   "source": [
    "def "
   ]
  }
 ],
 "metadata": {
  "kernelspec": {
   "display_name": "Python 3",
   "language": "python",
   "name": "python3"
  },
  "language_info": {
   "codemirror_mode": {
    "name": "ipython",
    "version": 3
   },
   "file_extension": ".py",
   "mimetype": "text/x-python",
   "name": "python",
   "nbconvert_exporter": "python",
   "pygments_lexer": "ipython3",
   "version": "3.7.1"
  }
 },
 "nbformat": 4,
 "nbformat_minor": 2
}
