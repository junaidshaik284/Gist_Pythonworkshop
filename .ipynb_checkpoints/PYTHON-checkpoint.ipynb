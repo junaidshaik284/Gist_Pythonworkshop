{
 "cells": [
  {
   "cell_type": "code",
   "execution_count": 2,
   "metadata": {},
   "outputs": [
    {
     "name": "stdout",
     "output_type": "stream",
     "text": [
      "Enter the value1\n",
      "Enter the another value10\n",
      "85 736 8201 109386 1679629 28824020 536870929 10460353222 200000000021 3138428376744 "
     ]
    }
   ],
   "source": [
    "s=int(input(\"Enter the value\"))\n",
    "e=int(input(\"Enter the another value\"))\n",
    "t=10\n",
    "for i in range (s,e+1):\n",
    "    n1=i+1\n",
    "    n2=i+2\n",
    "    expre=(n1+n2)+(n1**n2)*(t)\n",
    "    print(expre,end=\" \")\n",
    "    t=t-1"
   ]
  },
  {
   "cell_type": "code",
   "execution_count": 9,
   "metadata": {},
   "outputs": [
    {
     "name": "stdout",
     "output_type": "stream",
     "text": [
      "Enter n value : 1401601499\n",
      "ILEGAL ISBN\n"
     ]
    }
   ],
   "source": [
    "n=int(input(\"Enter n value : \"))\n",
    "temp=n\n",
    "count=0\n",
    "sum1=0\n",
    "i=10\n",
    "while(n!=0):\n",
    "    count=count+1\n",
    "    n=n//10\n",
    "if count==10:\n",
    "    while(temp!=0):\n",
    "        r=temp%10\n",
    "        sum=sum+(r*i)\n",
    "        i=i-1\n",
    "        temp=temp//10\n",
    "    if(sum%11==0):\n",
    "        print(\"LEGAL ISBN\")\n",
    "    else:\n",
    "            print(\"ILEGAL ISBN\")\n",
    "else:\n",
    "    print(\"ILEGAL ISBN\")\n",
    "         \n"
   ]
  },
  {
   "cell_type": "code",
   "execution_count": null,
   "metadata": {},
   "outputs": [],
   "source": [
    "n1=int(input())\n",
    "n2=int(input())\n",
    "for i in range(n1,n2+1):\n",
    "    if(n%4==0 or ((i%100!=0) and (i%40==0)):\n",
    "       print(i,end=\"\")\n",
    "       \n",
    "     "
   ]
  },
  {
   "cell_type": "code",
   "execution_count": 2,
   "metadata": {},
   "outputs": [
    {
     "name": "stdout",
     "output_type": "stream",
     "text": [
      "5478\n",
      "lastd:  8\n",
      "Fd:  5\n"
     ]
    }
   ],
   "source": [
    "n=int(input())#254\n",
    "print(\"lastd: \",n%10)\n",
    "while n>=10:#254>=10\n",
    "     n=n//10#254//10-->25\n",
    "print(\"Fd: \",n)"
   ]
  },
  {
   "cell_type": "code",
   "execution_count": 4,
   "metadata": {},
   "outputs": [
    {
     "name": "stdout",
     "output_type": "stream",
     "text": [
      "123\n",
      "6\n"
     ]
    }
   ],
   "source": [
    "n=int(input())\n",
    "sum1=0\n",
    "while(n!=0):\n",
    "    sum1=sum1+(n%10) \n",
    "    n=n//10\n",
    "print(sum1)    "
   ]
  },
  {
   "cell_type": "code",
   "execution_count": 7,
   "metadata": {},
   "outputs": [
    {
     "name": "stdout",
     "output_type": "stream",
     "text": [
      "Enter n value: 123\n"
     ]
    },
    {
     "data": {
      "text/plain": [
       "6"
      ]
     },
     "execution_count": 7,
     "metadata": {},
     "output_type": "execute_result"
    }
   ],
   "source": [
    "n=int(input(\"Enter n value: \"))\n",
    "sum1=0\n",
    "def sumofd(n,sum1):\n",
    "    while(n!=0):\n",
    "        sum1=sum1+(n%10)\n",
    "        n=n//10\n",
    "    return sum1\n",
    "sumofd(n,sum1)\n",
    "\n"
   ]
  },
  {
   "cell_type": "code",
   "execution_count": 18,
   "metadata": {},
   "outputs": [
    {
     "name": "stdout",
     "output_type": "stream",
     "text": [
      "Enter n value :8\n",
      "Not a Perfect number\n"
     ]
    }
   ],
   "source": [
    "def perfectn(n):\n",
    "    sum1=0\n",
    "    for i in range(1,(n//2)+1):\n",
    "        if(n%i==0):\n",
    "            sum1=sum1+i\n",
    "    if(sum1==n):\n",
    "        print(\"Perfect number\")\n",
    "    else:\n",
    "        print(\"Not a Perfect number\")\n",
    "n=int(input(\"Enter n value :\"))\n",
    "perfectn(n)        \n",
    "            "
   ]
  },
  {
   "cell_type": "code",
   "execution_count": 12,
   "metadata": {},
   "outputs": [
    {
     "name": "stdout",
     "output_type": "stream",
     "text": [
      "Enter a n value3\n"
     ]
    },
    {
     "data": {
      "text/plain": [
       "1"
      ]
     },
     "execution_count": 12,
     "metadata": {},
     "output_type": "execute_result"
    }
   ],
   "source": [
    "def checkprime():\n",
    "    n=int(input(\"Enter a n value\"))\n",
    "    count=0\n",
    "    for i in range(1,n+1):\n",
    "        if n%i==0:\n",
    "            count=count+1\n",
    "    if count==2:\n",
    "        return 1\n",
    "    else:\n",
    "        return 0\n",
    "checkprime()"
   ]
  },
  {
   "cell_type": "code",
   "execution_count": 17,
   "metadata": {},
   "outputs": [
    {
     "name": "stdout",
     "output_type": "stream",
     "text": [
      "Enter your name: junaid\n",
      "Good Afternoon  junaid\n"
     ]
    }
   ],
   "source": [
    "def grettingmessage():\n",
    "    name=(input(\"Enter your name: \"))\n",
    "    print(\"Good Afternoon \",name)\n",
    "grettingmessage()"
   ]
  },
  {
   "cell_type": "code",
   "execution_count": 21,
   "metadata": {},
   "outputs": [
    {
     "name": "stdout",
     "output_type": "stream",
     "text": [
      "['__add__', '__class__', '__contains__', '__delattr__', '__dir__', '__doc__', '__eq__', '__format__', '__ge__', '__getattribute__', '__getitem__', '__getnewargs__', '__gt__', '__hash__', '__init__', '__init_subclass__', '__iter__', '__le__', '__len__', '__lt__', '__mod__', '__mul__', '__ne__', '__new__', '__reduce__', '__reduce_ex__', '__repr__', '__rmod__', '__rmul__', '__setattr__', '__sizeof__', '__str__', '__subclasshook__', 'capitalize', 'casefold', 'center', 'count', 'encode', 'endswith', 'expandtabs', 'find', 'format', 'format_map', 'index', 'isalnum', 'isalpha', 'isascii', 'isdecimal', 'isdigit', 'isidentifier', 'islower', 'isnumeric', 'isprintable', 'isspace', 'istitle', 'isupper', 'join', 'ljust', 'lower', 'lstrip', 'maketrans', 'partition', 'replace', 'rfind', 'rindex', 'rjust', 'rpartition', 'rsplit', 'rstrip', 'split', 'splitlines', 'startswith', 'strip', 'swapcase', 'title', 'translate', 'upper', 'zfill']\n"
     ]
    }
   ],
   "source": [
    "print(dir(str))"
   ]
  },
  {
   "cell_type": "code",
   "execution_count": 26,
   "metadata": {},
   "outputs": [
    {
     "name": "stdout",
     "output_type": "stream",
     "text": [
      "00098\n"
     ]
    }
   ],
   "source": [
    "s1=\"98\"\n",
    "print(s1.zfill(5))"
   ]
  },
  {
   "cell_type": "code",
   "execution_count": 34,
   "metadata": {},
   "outputs": [
    {
     "name": "stdout",
     "output_type": "stream",
     "text": [
      "I am 20 \n"
     ]
    }
   ],
   "source": [
    "person = \"I am {year:} \"\n",
    "print(person.format(year=20))"
   ]
  },
  {
   "cell_type": "code",
   "execution_count": 1,
   "metadata": {},
   "outputs": [
    {
     "name": "stdout",
     "output_type": "stream",
     "text": [
      "2\n",
      "2\n",
      "2\n",
      "False\n",
      "True\n",
      "False\n",
      "True\n",
      "True\n",
      "True\n",
      " hEY dO U KNOW wHO iAM\n",
      "Helllllllllllllllo           \n"
     ]
    }
   ],
   "source": [
    "s=\"Fast and Furious\"\n",
    "print(s.count('a'))\n",
    "print(s.find('s'))\n",
    "print(s.index(\"s\"))\n",
    "print(s.isalpha())\n",
    "B='20'\n",
    "print(B.isdigit())\n",
    "C='12345678o'\n",
    "print(C.isdecimal())\n",
    "identifier=\"Hel123\"\n",
    "print(identifier.isidentifier())\n",
    "A=\"Junaid\"\n",
    "print(A.isalpha())\n",
    "num=\"junid\"\n",
    "print(num.isalnum())\n",
    "swap=\" Hey Do u know Who Iam\"\n",
    "print(swap.swapcase())\n",
    "e=\"     Helllllllllllllllo           \"\n",
    "print(e.lstrip())\n"
   ]
  },
  {
   "cell_type": "code",
   "execution_count": 2,
   "metadata": {},
   "outputs": [
    {
     "name": "stdout",
     "output_type": "stream",
     "text": [
      "Enter h value136\n",
      "Enter w value124\n",
      "Upload another\n"
     ]
    }
   ],
   "source": [
    "len=180\n",
    "h=int(input(\"Enter h value\"))\n",
    "w=int(input(\"Enter w value\"))\n",
    "if(w<len and h>len):\n",
    "    print(\"crop it\")\n",
    "elif(w==len and h==len):\n",
    "    print(\"Accepted it\")\n",
    "else:\n",
    "    print(\"Upload another\")\n"
   ]
  },
  {
   "cell_type": "code",
   "execution_count": 5,
   "metadata": {},
   "outputs": [
    {
     "name": "stdout",
     "output_type": "stream",
     "text": [
      "Enter the string: 1234124\n",
      "It is not Palindrome\n"
     ]
    }
   ],
   "source": [
    "string=(input(\"Enter the string: \"))\n",
    "revstr=string[::-1]\n",
    "if(string==revstr):\n",
    "    print(\"It is palindrome\")\n",
    "else:\n",
    "    print(\"It is not Palindrome\")"
   ]
  },
  {
   "cell_type": "code",
   "execution_count": 9,
   "metadata": {},
   "outputs": [
    {
     "name": "stdout",
     "output_type": "stream",
     "text": [
      "Enter your data123ABF567\n",
      "['A', 'B', 'F']\n",
      "['1', '2', '3', '5', '6', '7']\n",
      "ABF123567\n"
     ]
    }
   ],
   "source": [
    "s=input(\"Enter your data\")\n",
    "alphabets=[]\n",
    "numeric=[]\n",
    "for i in range(len(s)):\n",
    "    if(s[i].isalpha()):\n",
    "        alphabets.append(s[i])\n",
    "    if(s[i].isnumeric()):\n",
    "        numeric.append(s[i])\n",
    "#print(alphabets)\n",
    "#print(numeric)\n",
    "alphabets=sorted(alphabets)\n",
    "numeric=sorted(numeric)\n",
    "sorted_alpha_list=\"\".join(alphabets)\n",
    "sorted_numeric_list=\"\".join(numeric)\n",
    "# print(sorted_alpha_list)\n",
    "# print(sorted_numeric_list)\n",
    "outcome=sorted_alpha_list+sorted_numeric_list\n",
    "print(outcome)\n"
   ]
  },
  {
   "cell_type": "code",
   "execution_count": 11,
   "metadata": {},
   "outputs": [
    {
     "name": "stdout",
     "output_type": "stream",
     "text": [
      "Enter the string: junaid\n",
      "jjjjuuuunnnnaaaaiiiidddd"
     ]
    }
   ],
   "source": [
    "s=input(\"Enter the string: \")\n",
    "for i in range(len(s)):\n",
    "    op=s[i]*4\n",
    "    print(op,end=\"\")\n"
   ]
  },
  {
   "cell_type": "code",
   "execution_count": 16,
   "metadata": {},
   "outputs": [
    {
     "name": "stdout",
     "output_type": "stream",
     "text": [
      "Enter the stringjun\n"
     ]
    }
   ],
   "source": [
    "s=input(\"Enter the string\")\n",
    "for i in range(len(s)):\n",
    "      if(s[i]==0):\n",
    "        l=s[i]*5\n",
    "        print(l)\n",
    "        if\n",
    "            \n",
    "        \n",
    "        \n",
    "    "
   ]
  },
  {
   "cell_type": "code",
   "execution_count": 27,
   "metadata": {},
   "outputs": [
    {
     "name": "stdout",
     "output_type": "stream",
     "text": [
      "Enter: ECE4SCE4\n",
      " ECE ECE ECE ECE\n",
      " ECESCE ECESCE ECESCE ECESCE\n"
     ]
    }
   ],
   "source": [
    "s=input(\"Enter: \")\n",
    "data=\" \"\n",
    "for i in range(len(s)):\n",
    "    if(s[i].isalpha()):\n",
    "        data=data+s[i]\n",
    "    if(s[i].isnumeric()):\n",
    "        print(data*int(s[i]))\n",
    "        data=\" \"\n"
   ]
  },
  {
   "cell_type": "code",
   "execution_count": 1,
   "metadata": {},
   "outputs": [
    {
     "name": "stdout",
     "output_type": "stream",
     "text": [
      "Enter string: ECE CSE CIV \n",
      "['ECE', 'CSE', 'CIV']\n",
      "Even pos data:ECE CSE VIC \n",
      "odd pos data:  ECE ESC VIC "
     ]
    }
   ],
   "source": [
    "data=input(\"Enter string: \")\n",
    "data=data.split()\n",
    "#print(data)\n",
    "#print(\"Even pos data:\",end=\"\")\n",
    "for i in range(len(data)):\n",
    "    if(i%2==0):\n",
    "        print(data[i][::-1],end=\" \")\n",
    "    else:\n",
    "        print(data[i],end=\" \")\n",
    "print(\"\\nodd pos data: \",end=\" \")\n",
    "for i in range(len(data)):\n",
    "    print(data[i][::-1],end=\" \")\n",
    "    "
   ]
  },
  {
   "cell_type": "code",
   "execution_count": 2,
   "metadata": {},
   "outputs": [],
   "source": [
    "s=\"AAAAAABBBBBCCCCDDDD\"\n",
    "#for i in range(len(s)):\n",
    "    #print(s[i],\"---->\",s.count(s[i]))\n",
    "#for ch in s:\n",
    " #   print(ch,\"---->\",s.count(ch))\n",
    "s=list(s)\n",
    "#print(s)\n",
    "li=[]\n",
    "for ch in s:\n",
    "    if ch not in li:\n",
    "        li.append(ch)\n",
    "        "
   ]
  },
  {
   "cell_type": "code",
   "execution_count": 11,
   "metadata": {},
   "outputs": [
    {
     "name": "stdout",
     "output_type": "stream",
     "text": [
      "74\n",
      "85\n",
      "78\n",
      "65\n",
      "73\n",
      "68\n"
     ]
    }
   ],
   "source": [
    "print(ord(\"J\"))\n",
    "print(ord(\"U\"))\n",
    "print(ord(\"N\"))\n",
    "print(ord(\"A\"))\n",
    "print(ord(\"I\"))\n",
    "print(ord(\"D\"))"
   ]
  },
  {
   "cell_type": "code",
   "execution_count": 18,
   "metadata": {},
   "outputs": [
    {
     "name": "stdout",
     "output_type": "stream",
     "text": [
      "A\n",
      "F\n",
      "P\n",
      "-\n",
      "7\n",
      "-\n"
     ]
    }
   ],
   "source": [
    "print(chr(65))\n",
    "print(chr(70))\n",
    "print(chr(80))\n",
    "print(chr(45))\n",
    "print(chr(55))\n",
    "print(chr(45))"
   ]
  },
  {
   "cell_type": "code",
   "execution_count": 23,
   "metadata": {},
   "outputs": [
    {
     "name": "stdout",
     "output_type": "stream",
     "text": [
      "q2a3g2\n",
      "qsadgi\n"
     ]
    }
   ],
   "source": [
    "s=input()\n",
    "data=\"\"\n",
    "for i in range(len(s)):\n",
    "    if(s[i].isalpha()):\n",
    "        data=data+s[i]\n",
    "    if(s[i].isnumeric()):\n",
    "        asc=ord(s[i-1])\n",
    "        data=data+chr(asc+int(s[i]))\n",
    "print(data)        \n"
   ]
  },
  {
   "cell_type": "code",
   "execution_count": null,
   "metadata": {},
   "outputs": [],
   "source": []
  },
  {
   "cell_type": "code",
   "execution_count": null,
   "metadata": {},
   "outputs": [],
   "source": []
  }
 ],
 "metadata": {
  "kernelspec": {
   "display_name": "Python 3",
   "language": "python",
   "name": "python3"
  },
  "language_info": {
   "codemirror_mode": {
    "name": "ipython",
    "version": 3
   },
   "file_extension": ".py",
   "mimetype": "text/x-python",
   "name": "python",
   "nbconvert_exporter": "python",
   "pygments_lexer": "ipython3",
   "version": "3.7.1"
  }
 },
 "nbformat": 4,
 "nbformat_minor": 2
}
